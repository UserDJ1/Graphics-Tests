{
 "cells": [
  {
   "cell_type": "code",
   "execution_count": 1,
   "metadata": {},
   "outputs": [],
   "source": [
    "import matplotlib as mpl\n",
    "import matplotlib.pyplot as plt\n",
    "import numpy as np\n",
    "import math\n",
    "from matplotlib.animation import FuncAnimation\n",
    "import time\n",
    "import matplotlib.animation as animation\n",
    "import seaborn as sns\n",
    "import pandas as pd\n",
    "from graphics import *\n",
    "import sys\n",
    "import random\n",
    "import math"
   ]
  },
  {
   "cell_type": "code",
   "execution_count": 6,
   "metadata": {},
   "outputs": [],
   "source": [
    "A = np.arange(-0.5, 0.5, 0.001)\n",
    "B = (np.sqrt(2))*np.sin(np.pi*A)"
   ]
  },
  {
   "cell_type": "code",
   "execution_count": 7,
   "metadata": {},
   "outputs": [
    {
     "data": {
      "text/plain": [
       "[<matplotlib.lines.Line2D at 0x17984ef4288>]"
      ]
     },
     "execution_count": 7,
     "metadata": {},
     "output_type": "execute_result"
    },
    {
     "data": {
      "image/png": "[encoded data removed]",
      "text/plain": [
       "<Figure size 432x288 with 1 Axes>"
      ]
     },
     "metadata": {
      "needs_background": "light"
     },
     "output_type": "display_data"
    }
   ],
   "source": [
    "fig, axe = plt.subplots()\n",
    "axe.plot(A, B, \"RED\")"
   ]
  },
  {
   "cell_type": "code",
   "execution_count": 9,
   "metadata": {},
   "outputs": [],
   "source": [
    "C = 2*(np.sin(np.pi*A)**2)"
   ]
  },
  {
   "cell_type": "code",
   "execution_count": 10,
   "metadata": {},
   "outputs": [
    {
     "data": {
      "text/plain": [
       "[<matplotlib.lines.Line2D at 0x17984f79188>]"
      ]
     },
     "execution_count": 10,
     "metadata": {},
     "output_type": "execute_result"
    },
    {
     "data": {
      "image/png": "[encoded data removed]",
      "text/plain": [
       "<Figure size 432x288 with 1 Axes>"
      ]
     },
     "metadata": {
      "needs_background": "light"
     },
     "output_type": "display_data"
    }
   ],
   "source": [
    "fig, axe = plt.subplots()\n",
    "axe.plot(A, C, \"RED\")"
   ]
  },
  {
   "cell_type": "code",
   "execution_count": 22,
   "metadata": {},
   "outputs": [
    {
     "name": "stdout",
     "output_type": "stream",
     "text": [
      "45000\n",
      "45360\n",
      "22400\n"
     ]
    }
   ],
   "source": [
    "odd = 0\n",
    "uni = 0\n",
    "oddanduni = 0\n",
    "e=0\n",
    "\n",
    "for i in range(10000, 100000, 1):\n",
    "    a = str(i)[0]\n",
    "    b = str(i)[1]\n",
    "    c = str(i)[2]\n",
    "    d = str(i)[3]\n",
    "    if (d=='1' or d=='3' or d=='5' or d=='7' or d=='9'):\n",
    "        odd = odd + 1\n",
    "        e=1\n",
    "    if (a!=b and a!=c and a!=d and b!=c and b!=d and c!=d):\n",
    "        uni = uni + 1\n",
    "        if e==1:\n",
    "            oddanduni = oddanduni + 1\n",
    "    e=0\n",
    "    \n",
    "print(odd)\n",
    "print(uni)\n",
    "print(oddanduni)"
   ]
  },
  {
   "cell_type": "code",
   "execution_count": 24,
   "metadata": {},
   "outputs": [
    {
     "name": "stdout",
     "output_type": "stream",
     "text": [
      "500\n",
      "56\n"
     ]
    }
   ],
   "source": [
    "num = 0\n",
    "nom = 0\n",
    "\n",
    "for i in range(1, 1001, 1):\n",
    "    x=i%2\n",
    "    y=i%9\n",
    "    if (x==0):\n",
    "        num = num + 1\n",
    "    elif (y==0):\n",
    "        nom = nom + 1\n",
    "\n",
    "print(num)\n",
    "print(nom)"
   ]
  },
  {
   "cell_type": "code",
   "execution_count": null,
   "metadata": {},
   "outputs": [],
   "source": []
  }
 ],
 "metadata": {
  "kernelspec": {
   "display_name": "Python 3 (ipykernel)",
   "language": "python",
   "name": "python3"
  },
  "language_info": {
   "codemirror_mode": {
    "name": "ipython",
    "version": 3
   },
   "file_extension": ".py",
   "mimetype": "text/x-python",
   "name": "python",
   "nbconvert_exporter": "python",
   "pygments_lexer": "ipython3",
   "version": "3.8.8"
  }
 },
 "nbformat": 4,
 "nbformat_minor": 4
}
